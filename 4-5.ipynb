{
 "cells": [
  {
   "cell_type": "code",
   "execution_count": 1,
   "id": "e8e8e4a2-aac8-4510-8d0c-566e8af48b6b",
   "metadata": {
    "tags": []
   },
   "outputs": [],
   "source": [
    "# !pip install gensim==3.8.3"
   ]
  },
  {
   "cell_type": "code",
   "execution_count": 2,
   "id": "3c3eb197-151b-41ba-9fa4-0e4d7eb206a8",
   "metadata": {},
   "outputs": [],
   "source": [
    "import gensim\n",
    "path = '/export/space0/tanabe-h/data/kadai4/w2v/ja.bin'\n",
    "model = gensim.models.Word2Vec.load(path)"
   ]
  },
  {
   "cell_type": "code",
   "execution_count": 3,
   "id": "038308ec-5a2c-4eb6-a968-f3828284d6a7",
   "metadata": {},
   "outputs": [
    {
     "data": {
      "text/plain": [
       "[('王妃', 0.4890061616897583),\n",
       " ('王子', 0.4780963361263275),\n",
       " ('女王', 0.45750507712364197),\n",
       " ('二世', 0.4571529030799866),\n",
       " ('息子', 0.44501209259033203),\n",
       " ('イザベル', 0.44311773777008057),\n",
       " ('妃', 0.4341166913509369),\n",
       " ('イザベラ', 0.43192583322525024),\n",
       " ('夫', 0.4286293089389801),\n",
       " ('マルグリット', 0.4250592291355133)]"
      ]
     },
     "execution_count": 3,
     "metadata": {},
     "output_type": "execute_result"
    }
   ],
   "source": [
    "model.wv.most_similar(positive=['王女', '男'],negative=['女']) # 王女 - 女 + 男"
   ]
  },
  {
   "cell_type": "code",
   "execution_count": 4,
   "id": "636e2765-822d-4370-b4b1-e3d73b67e108",
   "metadata": {
    "tags": []
   },
   "outputs": [
    {
     "data": {
      "text/plain": [
       "[('母親', 0.7068483829498291),\n",
       " ('一人息子', 0.5428977012634277),\n",
       " ('愛人', 0.5354843139648438),\n",
       " ('クララ', 0.5304211378097534),\n",
       " ('息子', 0.5282931327819824),\n",
       " ('マリー', 0.5227851271629333),\n",
       " ('祖母', 0.5217046141624451),\n",
       " ('一人娘', 0.5204442739486694),\n",
       " ('モニカ', 0.5194230079650879),\n",
       " ('ビリー', 0.5193910598754883)]"
      ]
     },
     "execution_count": 4,
     "metadata": {},
     "output_type": "execute_result"
    }
   ],
   "source": [
    "model.wv.most_similar(positive=['父親', '女'],negative=['男']) # 父親 - 男 + 女"
   ]
  },
  {
   "cell_type": "code",
   "execution_count": 5,
   "id": "bf29d22b-94cf-4cb9-8193-453bec67a1b4",
   "metadata": {
    "tags": []
   },
   "outputs": [
    {
     "name": "stderr",
     "output_type": "stream",
     "text": [
      "/tmp/ipykernel_3186296/1009763869.py:1: DeprecationWarning: Call to deprecated `similarity` (Method will be removed in 4.0.0, use self.wv.similarity() instead).\n",
      "  model.similarity('ラーメン', 'そば')\n"
     ]
    },
    {
     "data": {
      "text/plain": [
       "0.61371934"
      ]
     },
     "execution_count": 5,
     "metadata": {},
     "output_type": "execute_result"
    }
   ],
   "source": [
    "model.similarity('ラーメン', 'そば')"
   ]
  },
  {
   "cell_type": "code",
   "execution_count": 6,
   "id": "121b5ad7-6805-48bc-8572-1d30428abe61",
   "metadata": {
    "tags": []
   },
   "outputs": [
    {
     "name": "stderr",
     "output_type": "stream",
     "text": [
      "/tmp/ipykernel_3186296/301753636.py:1: DeprecationWarning: Call to deprecated `similarity` (Method will be removed in 4.0.0, use self.wv.similarity() instead).\n",
      "  model.similarity('ラーメン', 'ライオン')\n"
     ]
    },
    {
     "data": {
      "text/plain": [
       "0.17126517"
      ]
     },
     "execution_count": 6,
     "metadata": {},
     "output_type": "execute_result"
    }
   ],
   "source": [
    "model.similarity('ラーメン', 'ライオン')"
   ]
  },
  {
   "cell_type": "code",
   "execution_count": 7,
   "id": "68ee202a-4a30-441b-b9c5-da7e1a36a805",
   "metadata": {
    "tags": []
   },
   "outputs": [
    {
     "name": "stderr",
     "output_type": "stream",
     "text": [
      "/tmp/ipykernel_3186296/3856804821.py:1: DeprecationWarning: Call to deprecated `similarity` (Method will be removed in 4.0.0, use self.wv.similarity() instead).\n",
      "  model.similarity('男', '女')\n"
     ]
    },
    {
     "data": {
      "text/plain": [
       "0.52282804"
      ]
     },
     "execution_count": 7,
     "metadata": {},
     "output_type": "execute_result"
    }
   ],
   "source": [
    "model.similarity('男', '女')"
   ]
  }
 ],
 "metadata": {
  "kernelspec": {
   "display_name": "Python 3 (ipykernel)",
   "language": "python",
   "name": "python3"
  },
  "language_info": {
   "codemirror_mode": {
    "name": "ipython",
    "version": 3
   },
   "file_extension": ".py",
   "mimetype": "text/x-python",
   "name": "python",
   "nbconvert_exporter": "python",
   "pygments_lexer": "ipython3",
   "version": "3.9.6"
  }
 },
 "nbformat": 4,
 "nbformat_minor": 5
}
