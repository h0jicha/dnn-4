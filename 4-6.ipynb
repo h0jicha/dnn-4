{
 "cells": [
  {
   "cell_type": "code",
   "execution_count": 1,
   "id": "bb2d1020-c5fb-4e79-a947-cf6c0190f133",
   "metadata": {},
   "outputs": [
    {
     "name": "stdout",
     "output_type": "stream",
     "text": [
      "Files already downloaded and verified\n",
      "Files already downloaded and verified\n"
     ]
    }
   ],
   "source": [
    "import torchvision\n",
    "import torchvision.transforms as transforms\n",
    "import torch\n",
    "\n",
    "transform = transforms.Compose(\n",
    "    [transforms.ToTensor(),\n",
    "     transforms.Normalize((0.5, 0.5, 0.5), (0.5, 0.5, 0.5))])\n",
    "\n",
    "batch_size = 100\n",
    "\n",
    "train_set = torchvision.datasets.CIFAR10(root='./data', train=True,\n",
    "                                        download=True, transform=transform)\n",
    "\n",
    "train_loader = torch.utils.data.DataLoader(train_set, batch_size=batch_size,\n",
    "                                          shuffle=True, num_workers=2)\n",
    "\n",
    "test_set = torchvision.datasets.CIFAR10(root='./data', train=False,\n",
    "                                       download=True, transform=transform)\n",
    "test_loader = torch.utils.data.DataLoader(test_set, batch_size=batch_size,\n",
    "                                         shuffle=False, num_workers=2)\n",
    "\n",
    "classes = ('plane', 'car', 'bird', 'cat', \n",
    "'deer', 'dog', 'frog', 'horse', 'ship', 'truck')"
   ]
  },
  {
   "cell_type": "code",
   "execution_count": 3,
   "id": "de1b5db9-5f26-4d4e-b657-94f898f08439",
   "metadata": {},
   "outputs": [],
   "source": [
    "from vit_pytorch import ViT\n",
    "\n",
    "device = torch.device('cuda:0' if torch.cuda.is_available() else 'cpu')\n",
    "\n",
    "net = ViT(\n",
    "    image_size=32,\n",
    "    patch_size=4,\n",
    "    num_classes=10,\n",
    "    dim=256,\n",
    "    depth=3,\n",
    "    heads=4,\n",
    "    mlp_dim=256,\n",
    "    dropout=0.1,\n",
    "    emb_dropout=0.1\n",
    ").to(device)"
   ]
  },
  {
   "cell_type": "code",
   "execution_count": 8,
   "id": "bef05351-21df-4f5b-b87b-859866522df2",
   "metadata": {
    "tags": []
   },
   "outputs": [
    {
     "name": "stdout",
     "output_type": "stream",
     "text": [
      "Epoch 1 : train acc. 0.20 train loss 2.12\n",
      "Epoch 1 : test acc. 0.24 test loss 2.05\n",
      "Epoch 2 : train acc. 0.23 train loss 2.03\n",
      "Epoch 2 : test acc. 0.25 test loss 1.99\n",
      "Epoch 3 : train acc. 0.26 train loss 1.97\n",
      "Epoch 3 : test acc. 0.29 test loss 1.92\n",
      "Epoch 4 : train acc. 0.28 train loss 1.90\n",
      "Epoch 4 : test acc. 0.32 test loss 1.84\n",
      "Epoch 5 : train acc. 0.31 train loss 1.84\n",
      "Epoch 5 : test acc. 0.34 test loss 1.82\n",
      "Epoch 6 : train acc. 0.33 train loss 1.79\n",
      "Epoch 6 : test acc. 0.35 test loss 1.75\n",
      "Epoch 7 : train acc. 0.35 train loss 1.74\n",
      "Epoch 7 : test acc. 0.38 test loss 1.70\n",
      "Epoch 8 : train acc. 0.38 train loss 1.69\n",
      "Epoch 8 : test acc. 0.39 test loss 1.67\n",
      "Epoch 9 : train acc. 0.40 train loss 1.64\n",
      "Epoch 9 : test acc. 0.41 test loss 1.63\n",
      "Epoch 10 : train acc. 0.42 train loss 1.59\n",
      "Epoch 10 : test acc. 0.43 test loss 1.60\n",
      "Epoch 11 : train acc. 0.43 train loss 1.55\n",
      "Epoch 11 : test acc. 0.45 test loss 1.54\n",
      "Epoch 12 : train acc. 0.45 train loss 1.51\n",
      "Epoch 12 : test acc. 0.46 test loss 1.53\n",
      "Epoch 13 : train acc. 0.46 train loss 1.48\n",
      "Epoch 13 : test acc. 0.46 test loss 1.54\n",
      "Epoch 14 : train acc. 0.47 train loss 1.46\n",
      "Epoch 14 : test acc. 0.48 test loss 1.47\n",
      "Epoch 15 : train acc. 0.48 train loss 1.43\n",
      "Epoch 15 : test acc. 0.48 test loss 1.47\n",
      "Epoch 16 : train acc. 0.49 train loss 1.42\n",
      "Epoch 16 : test acc. 0.48 test loss 1.49\n",
      "Epoch 17 : train acc. 0.49 train loss 1.40\n",
      "Epoch 17 : test acc. 0.50 test loss 1.43\n",
      "Epoch 18 : train acc. 0.50 train loss 1.38\n",
      "Epoch 18 : test acc. 0.50 test loss 1.45\n",
      "Epoch 19 : train acc. 0.51 train loss 1.36\n",
      "Epoch 19 : test acc. 0.51 test loss 1.39\n",
      "Epoch 20 : train acc. 0.51 train loss 1.35\n",
      "Epoch 20 : test acc. 0.52 test loss 1.39\n"
     ]
    }
   ],
   "source": [
    "import torch.optim as optim\n",
    "import torch.nn as nn\n",
    "\n",
    "criterion = nn.CrossEntropyLoss()\n",
    "optimizer = optim.SGD(net.parameters(), lr=0.001, momentum=0.9)\n",
    "\n",
    "epochs = 20\n",
    "for epoch in range(0, epochs):\n",
    "    epoch_train_loss = 0\n",
    "    epoch_train_acc = 0\n",
    "    epoch_test_loss = 0\n",
    "    epoch_test_acc = 0\n",
    "\n",
    "    net.train()\n",
    "    for data in train_loader:\n",
    "        inputs, labels = data[0].to(device), data[1].to(device)\n",
    "\n",
    "        optimizer.zero_grad()\n",
    "\n",
    "        outputs = net(inputs)\n",
    "        loss = criterion(outputs, labels)\n",
    "        loss.backward()\n",
    "        optimizer.step()\n",
    "\n",
    "        epoch_train_loss += loss.item()/len(train_loader)\n",
    "        acc = (outputs.argmax(dim=1) == labels).float().mean()\n",
    "        epoch_train_acc += acc/len(train_loader)\n",
    "\n",
    "    net.eval()\n",
    "    with torch.no_grad():\n",
    "        for data in test_loader:\n",
    "            inputs, labels = data[0].to(device), data[1].to(device)\n",
    "            outputs = net(inputs)\n",
    "            loss = criterion(outputs, labels)\n",
    "            epoch_test_loss += loss.item()/len(test_loader)\n",
    "            test_acc = (outputs.argmax(dim=1) == labels).float().mean()\n",
    "            epoch_test_acc += test_acc/len(test_loader)\n",
    "\n",
    "    print(f'Epoch {epoch+1} : train acc. {epoch_train_acc:.2f} train loss {epoch_train_loss:.2f}')\n",
    "    print(f'Epoch {epoch+1} : test acc. {epoch_test_acc:.2f} test loss {epoch_test_loss:.2f}')"
   ]
  }
 ],
 "metadata": {
  "kernelspec": {
   "display_name": "Python 3 (ipykernel)",
   "language": "python",
   "name": "python3"
  },
  "language_info": {
   "codemirror_mode": {
    "name": "ipython",
    "version": 3
   },
   "file_extension": ".py",
   "mimetype": "text/x-python",
   "name": "python",
   "nbconvert_exporter": "python",
   "pygments_lexer": "ipython3",
   "version": "3.9.6"
  }
 },
 "nbformat": 4,
 "nbformat_minor": 5
}
