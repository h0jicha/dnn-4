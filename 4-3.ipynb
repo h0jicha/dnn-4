{
 "cells": [
  {
   "cell_type": "code",
   "execution_count": 1,
   "id": "1dde6d88-6ab0-492c-a0b6-0df3266ead31",
   "metadata": {
    "tags": []
   },
   "outputs": [
    {
     "name": "stdout",
     "output_type": "stream",
     "text": [
      "fatal: destination path 'Pytorch-UNet' already exists and is not an empty directory.\n",
      "/host/home/yanai-lab/Sotsuken23/tanabe-h/desk/sotsuken/kadai/4/Pytorch-UNet\n"
     ]
    }
   ],
   "source": [
    "!git clone https://github.com/milesial/Pytorch-UNet\n",
    "%cd \"./Pytorch-UNet\""
   ]
  },
  {
   "cell_type": "code",
   "execution_count": 2,
   "id": "d22ac768-c202-4e9d-9ce4-1f9737d3597a",
   "metadata": {
    "tags": []
   },
   "outputs": [
    {
     "name": "stdout",
     "output_type": "stream",
     "text": [
      "\u001b[33mWARNING: Ignoring invalid distribution -illow (/host/home/yanai-lab/Sotsuken23/tanabe-h/miniconda3/lib/python3.10/site-packages)\u001b[0m\u001b[33m\n",
      "\u001b[0mCollecting matplotlib==3.6.2 (from -r requirements.txt (line 1))\n",
      "  Using cached matplotlib-3.6.2-cp310-cp310-manylinux_2_17_x86_64.manylinux2014_x86_64.whl (11.8 MB)\n",
      "Requirement already satisfied: numpy==1.23.5 in /host/home/yanai-lab/Sotsuken23/tanabe-h/miniconda3/lib/python3.10/site-packages (from -r requirements.txt (line 2)) (1.23.5)\n",
      "Requirement already satisfied: Pillow==9.3.0 in /host/home/yanai-lab/Sotsuken23/tanabe-h/miniconda3/lib/python3.10/site-packages (from -r requirements.txt (line 3)) (9.3.0)\n",
      "Requirement already satisfied: tqdm==4.64.1 in /host/home/yanai-lab/Sotsuken23/tanabe-h/miniconda3/lib/python3.10/site-packages (from -r requirements.txt (line 4)) (4.64.1)\n",
      "Collecting wandb==0.13.5 (from -r requirements.txt (line 5))\n",
      "  Using cached wandb-0.13.5-py2.py3-none-any.whl (1.9 MB)\n",
      "Requirement already satisfied: contourpy>=1.0.1 in /host/home/yanai-lab/Sotsuken23/tanabe-h/miniconda3/lib/python3.10/site-packages (from matplotlib==3.6.2->-r requirements.txt (line 1)) (1.0.7)\n",
      "Requirement already satisfied: cycler>=0.10 in /host/home/yanai-lab/Sotsuken23/tanabe-h/miniconda3/lib/python3.10/site-packages (from matplotlib==3.6.2->-r requirements.txt (line 1)) (0.11.0)\n",
      "Requirement already satisfied: fonttools>=4.22.0 in /host/home/yanai-lab/Sotsuken23/tanabe-h/miniconda3/lib/python3.10/site-packages (from matplotlib==3.6.2->-r requirements.txt (line 1)) (4.39.3)\n",
      "Requirement already satisfied: kiwisolver>=1.0.1 in /host/home/yanai-lab/Sotsuken23/tanabe-h/miniconda3/lib/python3.10/site-packages (from matplotlib==3.6.2->-r requirements.txt (line 1)) (1.4.4)\n",
      "Requirement already satisfied: packaging>=20.0 in /host/home/yanai-lab/Sotsuken23/tanabe-h/miniconda3/lib/python3.10/site-packages (from matplotlib==3.6.2->-r requirements.txt (line 1)) (23.0)\n",
      "Requirement already satisfied: pyparsing>=2.2.1 in /host/home/yanai-lab/Sotsuken23/tanabe-h/miniconda3/lib/python3.10/site-packages (from matplotlib==3.6.2->-r requirements.txt (line 1)) (3.0.9)\n",
      "Requirement already satisfied: python-dateutil>=2.7 in /host/home/yanai-lab/Sotsuken23/tanabe-h/miniconda3/lib/python3.10/site-packages (from matplotlib==3.6.2->-r requirements.txt (line 1)) (2.8.2)\n",
      "Requirement already satisfied: Click!=8.0.0,>=7.0 in /host/home/yanai-lab/Sotsuken23/tanabe-h/miniconda3/lib/python3.10/site-packages (from wandb==0.13.5->-r requirements.txt (line 5)) (8.1.3)\n",
      "Requirement already satisfied: GitPython>=1.0.0 in /host/home/yanai-lab/Sotsuken23/tanabe-h/miniconda3/lib/python3.10/site-packages (from wandb==0.13.5->-r requirements.txt (line 5)) (3.1.31)\n",
      "Requirement already satisfied: requests<3,>=2.0.0 in /host/home/yanai-lab/Sotsuken23/tanabe-h/miniconda3/lib/python3.10/site-packages (from wandb==0.13.5->-r requirements.txt (line 5)) (2.28.1)\n",
      "Requirement already satisfied: promise<3,>=2.0 in /host/home/yanai-lab/Sotsuken23/tanabe-h/miniconda3/lib/python3.10/site-packages (from wandb==0.13.5->-r requirements.txt (line 5)) (2.3)\n",
      "Requirement already satisfied: shortuuid>=0.5.0 in /host/home/yanai-lab/Sotsuken23/tanabe-h/miniconda3/lib/python3.10/site-packages (from wandb==0.13.5->-r requirements.txt (line 5)) (1.0.11)\n",
      "Requirement already satisfied: psutil>=5.0.0 in /host/home/yanai-lab/Sotsuken23/tanabe-h/miniconda3/lib/python3.10/site-packages (from wandb==0.13.5->-r requirements.txt (line 5)) (5.9.4)\n",
      "Requirement already satisfied: sentry-sdk>=1.0.0 in /host/home/yanai-lab/Sotsuken23/tanabe-h/miniconda3/lib/python3.10/site-packages (from wandb==0.13.5->-r requirements.txt (line 5)) (1.20.0)\n",
      "Requirement already satisfied: six>=1.13.0 in /host/home/yanai-lab/Sotsuken23/tanabe-h/miniconda3/lib/python3.10/site-packages (from wandb==0.13.5->-r requirements.txt (line 5)) (1.16.0)\n",
      "Requirement already satisfied: docker-pycreds>=0.4.0 in /host/home/yanai-lab/Sotsuken23/tanabe-h/miniconda3/lib/python3.10/site-packages (from wandb==0.13.5->-r requirements.txt (line 5)) (0.4.0)\n",
      "Requirement already satisfied: protobuf!=4.0.*,!=4.21.0,<5,>=3.12.0 in /host/home/yanai-lab/Sotsuken23/tanabe-h/miniconda3/lib/python3.10/site-packages (from wandb==0.13.5->-r requirements.txt (line 5)) (4.22.3)\n",
      "Requirement already satisfied: PyYAML in /host/home/yanai-lab/Sotsuken23/tanabe-h/miniconda3/lib/python3.10/site-packages (from wandb==0.13.5->-r requirements.txt (line 5)) (6.0)\n",
      "Requirement already satisfied: pathtools in /host/home/yanai-lab/Sotsuken23/tanabe-h/miniconda3/lib/python3.10/site-packages (from wandb==0.13.5->-r requirements.txt (line 5)) (0.1.2)\n",
      "Requirement already satisfied: setproctitle in /host/home/yanai-lab/Sotsuken23/tanabe-h/miniconda3/lib/python3.10/site-packages (from wandb==0.13.5->-r requirements.txt (line 5)) (1.3.2)\n",
      "Requirement already satisfied: setuptools in /host/home/yanai-lab/Sotsuken23/tanabe-h/miniconda3/lib/python3.10/site-packages (from wandb==0.13.5->-r requirements.txt (line 5)) (65.6.3)\n",
      "Requirement already satisfied: gitdb<5,>=4.0.1 in /host/home/yanai-lab/Sotsuken23/tanabe-h/miniconda3/lib/python3.10/site-packages (from GitPython>=1.0.0->wandb==0.13.5->-r requirements.txt (line 5)) (4.0.10)\n",
      "Requirement already satisfied: charset-normalizer<3,>=2 in /host/home/yanai-lab/Sotsuken23/tanabe-h/miniconda3/lib/python3.10/site-packages (from requests<3,>=2.0.0->wandb==0.13.5->-r requirements.txt (line 5)) (2.0.4)\n",
      "Requirement already satisfied: idna<4,>=2.5 in /host/home/yanai-lab/Sotsuken23/tanabe-h/miniconda3/lib/python3.10/site-packages (from requests<3,>=2.0.0->wandb==0.13.5->-r requirements.txt (line 5)) (3.4)\n",
      "Requirement already satisfied: urllib3<1.27,>=1.21.1 in /host/home/yanai-lab/Sotsuken23/tanabe-h/miniconda3/lib/python3.10/site-packages (from requests<3,>=2.0.0->wandb==0.13.5->-r requirements.txt (line 5)) (1.26.14)\n",
      "Requirement already satisfied: certifi>=2017.4.17 in /host/home/yanai-lab/Sotsuken23/tanabe-h/miniconda3/lib/python3.10/site-packages (from requests<3,>=2.0.0->wandb==0.13.5->-r requirements.txt (line 5)) (2022.12.7)\n",
      "Requirement already satisfied: smmap<6,>=3.0.1 in /host/home/yanai-lab/Sotsuken23/tanabe-h/miniconda3/lib/python3.10/site-packages (from gitdb<5,>=4.0.1->GitPython>=1.0.0->wandb==0.13.5->-r requirements.txt (line 5)) (5.0.0)\n",
      "\u001b[33mWARNING: Ignoring invalid distribution -illow (/host/home/yanai-lab/Sotsuken23/tanabe-h/miniconda3/lib/python3.10/site-packages)\u001b[0m\u001b[33m\n",
      "\u001b[0mInstalling collected packages: matplotlib, wandb\n",
      "  Attempting uninstall: matplotlib\n",
      "    Found existing installation: matplotlib 3.7.1\n",
      "    Uninstalling matplotlib-3.7.1:\n",
      "      Successfully uninstalled matplotlib-3.7.1\n",
      "  Attempting uninstall: wandb\n",
      "    Found existing installation: wandb 0.15.0\n",
      "    Uninstalling wandb-0.15.0:\n",
      "      Successfully uninstalled wandb-0.15.0\n",
      "Successfully installed matplotlib-3.6.2 wandb-0.13.5\n",
      "\n",
      "\u001b[1m[\u001b[0m\u001b[34;49mnotice\u001b[0m\u001b[1;39;49m]\u001b[0m\u001b[39;49m A new release of pip is available: \u001b[0m\u001b[31;49m23.1\u001b[0m\u001b[39;49m -> \u001b[0m\u001b[32;49m23.1.2\u001b[0m\n",
      "\u001b[1m[\u001b[0m\u001b[34;49mnotice\u001b[0m\u001b[1;39;49m]\u001b[0m\u001b[39;49m To update, run: \u001b[0m\u001b[32;49mpip install --upgrade pip\u001b[0m\n"
     ]
    }
   ],
   "source": [
    "!pip install -r requirements.txt"
   ]
  },
  {
   "cell_type": "code",
   "execution_count": 9,
   "id": "a204e2ad-cc62-4df3-867f-fa579f8e95ef",
   "metadata": {
    "tags": []
   },
   "outputs": [
    {
     "name": "stdout",
     "output_type": "stream",
     "text": [
      "Using cache found in /home/yanai-lab/tanabe-h/.cache/torch/hub/milesial_Pytorch-UNet_master\n",
      "INFO: Loading model unet_carvana_scale0.5_epoch2.pth\n",
      "INFO: Using device cuda\n",
      "INFO: Model loaded!\n",
      "INFO: Predicting image plane.jpg ...\n",
      "INFO: Mask saved to output.jpg\n"
     ]
    }
   ],
   "source": [
    "!python predict.py -i plane.jpg -o output.jpg -m unet_carvana_scale0.5_epoch2.pth -s 0.5"
   ]
  }
 ],
 "metadata": {
  "kernelspec": {
   "display_name": "Python 3 (ipykernel)",
   "language": "python",
   "name": "python3"
  },
  "language_info": {
   "codemirror_mode": {
    "name": "ipython",
    "version": 3
   },
   "file_extension": ".py",
   "mimetype": "text/x-python",
   "name": "python",
   "nbconvert_exporter": "python",
   "pygments_lexer": "ipython3",
   "version": "3.9.6"
  }
 },
 "nbformat": 4,
 "nbformat_minor": 5
}
